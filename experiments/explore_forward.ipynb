{
 "cells": [
  {
   "cell_type": "markdown",
   "id": "637dc5d0",
   "metadata": {},
   "source": [
    "## Notebook to explore forward pass"
   ]
  },
  {
   "cell_type": "markdown",
   "id": "63b7af02",
   "metadata": {},
   "source": [
    "### Imports"
   ]
  },
  {
   "cell_type": "code",
   "execution_count": 1,
   "id": "b0e14be9",
   "metadata": {},
   "outputs": [],
   "source": [
    "import sys\n",
    "import os\n",
    "\n",
    "# Add the project root to sys.path\n",
    "project_root = os.path.abspath(os.path.join(os.getcwd(), \"..\"))\n",
    "if project_root not in sys.path:\n",
    "    sys.path.insert(0, project_root)"
   ]
  },
  {
   "cell_type": "code",
   "execution_count": 2,
   "id": "be3cf12b",
   "metadata": {},
   "outputs": [],
   "source": [
    "import numpy as np\n",
    "\n",
    "from src.tokenizer import Tokenizer\n",
    "from src.transformer import Transformer\n",
    "from src.utils.mask import create_src_mask, create_tgt_mask"
   ]
  },
  {
   "cell_type": "markdown",
   "id": "1ccd28f2",
   "metadata": {},
   "source": [
    "### Set the input & sequence length"
   ]
  },
  {
   "cell_type": "code",
   "execution_count": 3,
   "id": "975eb9a6",
   "metadata": {},
   "outputs": [],
   "source": [
    "input = \"apple tree\"\n",
    "seq_length = 20\n",
    "\n",
    "# seq length should be greater than input length + 2, otherwise cut off (comment assertion if wanted)\n",
    "assert seq_length >= len(input) + 2, \"Sequence length should be greater than input length + 2\""
   ]
  },
  {
   "cell_type": "markdown",
   "id": "18d51b2a",
   "metadata": {},
   "source": [
    "### Tokenize input and generate target"
   ]
  },
  {
   "cell_type": "code",
   "execution_count": 4,
   "id": "98e4c94f",
   "metadata": {},
   "outputs": [
    {
     "name": "stdout",
     "output_type": "stream",
     "text": [
      "Source tokens: [1, 13, 28, 28, 24, 17, 97, 32, 30, 17, 17, 0, 0, 0, 0, 0, 0, 0, 0, 2]\n",
      "Expected output: eert elppa\n",
      "Target tokens (full): [1, 17, 17, 30, 32, 97, 17, 24, 28, 28, 13, 0, 0, 0, 0, 0, 0, 0, 0, 2]\n"
     ]
    }
   ],
   "source": [
    "tokenizer = Tokenizer()\n",
    "\n",
    "# Tokenize the input\n",
    "src_tokens = tokenizer.tokenize(input, seq_length=seq_length)\n",
    "print(f\"Source tokens: {src_tokens}\")\n",
    "\n",
    "# Create expected output (here: reverse of input)\n",
    "expected_output = tokenizer.detokenize(src_tokens)[::-1]\n",
    "print(f\"Expected output: {expected_output}\")\n",
    "\n",
    "# Tokenize expected output\n",
    "tgt_tokens_full = tokenizer.tokenize(expected_output, seq_length=seq_length)\n",
    "print(f\"Target tokens (full): {tgt_tokens_full}\")"
   ]
  },
  {
   "cell_type": "markdown",
   "id": "dace2a17",
   "metadata": {},
   "source": [
    "### Create batch of src and tgt tokens, teacher-forcing"
   ]
  },
  {
   "cell_type": "code",
   "execution_count": 5,
   "id": "077233de",
   "metadata": {},
   "outputs": [
    {
     "name": "stdout",
     "output_type": "stream",
     "text": [
      "Batch shape: (20, 20)\n",
      "Source batch (first 3, as all entries are the same): \n",
      " [[ 1 13 28 28 24 17 97 32 30 17 17  0  0  0  0  0  0  0  0  2]\n",
      " [ 1 13 28 28 24 17 97 32 30 17 17  0  0  0  0  0  0  0  0  2]\n",
      " [ 1 13 28 28 24 17 97 32 30 17 17  0  0  0  0  0  0  0  0  2]]\n",
      "---\n",
      "Target batch: \n",
      " [[ 1  0  0  0  0  0  0  0  0  0  0  0  0  0  0  0  0  0  0  0]\n",
      " [ 1 17  0  0  0  0  0  0  0  0  0  0  0  0  0  0  0  0  0  0]\n",
      " [ 1 17 17  0  0  0  0  0  0  0  0  0  0  0  0  0  0  0  0  0]\n",
      " [ 1 17 17 30  0  0  0  0  0  0  0  0  0  0  0  0  0  0  0  0]\n",
      " [ 1 17 17 30 32  0  0  0  0  0  0  0  0  0  0  0  0  0  0  0]\n",
      " [ 1 17 17 30 32 97  0  0  0  0  0  0  0  0  0  0  0  0  0  0]\n",
      " [ 1 17 17 30 32 97 17  0  0  0  0  0  0  0  0  0  0  0  0  0]\n",
      " [ 1 17 17 30 32 97 17 24  0  0  0  0  0  0  0  0  0  0  0  0]\n",
      " [ 1 17 17 30 32 97 17 24 28  0  0  0  0  0  0  0  0  0  0  0]\n",
      " [ 1 17 17 30 32 97 17 24 28 28  0  0  0  0  0  0  0  0  0  0]\n",
      " [ 1 17 17 30 32 97 17 24 28 28 13  0  0  0  0  0  0  0  0  0]\n",
      " [ 1 17 17 30 32 97 17 24 28 28 13  0  0  0  0  0  0  0  0  0]\n",
      " [ 1 17 17 30 32 97 17 24 28 28 13  0  0  0  0  0  0  0  0  0]\n",
      " [ 1 17 17 30 32 97 17 24 28 28 13  0  0  0  0  0  0  0  0  0]\n",
      " [ 1 17 17 30 32 97 17 24 28 28 13  0  0  0  0  0  0  0  0  0]\n",
      " [ 1 17 17 30 32 97 17 24 28 28 13  0  0  0  0  0  0  0  0  0]\n",
      " [ 1 17 17 30 32 97 17 24 28 28 13  0  0  0  0  0  0  0  0  0]\n",
      " [ 1 17 17 30 32 97 17 24 28 28 13  0  0  0  0  0  0  0  0  0]\n",
      " [ 1 17 17 30 32 97 17 24 28 28 13  0  0  0  0  0  0  0  0  0]\n",
      " [ 1 17 17 30 32 97 17 24 28 28 13  0  0  0  0  0  0  0  0  2]]\n"
     ]
    }
   ],
   "source": [
    "# create source and target batch\n",
    "src_batch = np.tile(src_tokens, (seq_length, 1))\n",
    "tgt_batch = []\n",
    "for i in range(1, seq_length + 1):\n",
    "    # reveal up to i tokens, pad the rest\n",
    "    tgt_row = tgt_tokens_full[:i] + [tokenizer.get_pad_token_id()] * (seq_length - i)\n",
    "    tgt_batch.append(tgt_row)\n",
    "tgt_batch = np.array(tgt_batch, dtype=np.int32)\n",
    "\n",
    "# (batch_size, seq_length)\n",
    "print(f\"Batch shape: {src_batch.shape}\")\n",
    "print(f\"Source batch (first 3, as all entries are the same): \\n {src_batch[:3]}\")\n",
    "print(\"---\")\n",
    "print(f\"Target batch: \\n {tgt_batch}\")"
   ]
  },
  {
   "cell_type": "markdown",
   "id": "c24b3bb8",
   "metadata": {},
   "source": [
    "### Setup parameters and build Transformer"
   ]
  },
  {
   "cell_type": "code",
   "execution_count": 6,
   "id": "0f4b6121",
   "metadata": {},
   "outputs": [],
   "source": [
    "# Define the Transformer parameters\n",
    "src_vocab_size = tokenizer.vocab_size()\n",
    "tgt_vocab_size = tokenizer.vocab_size()\n",
    "src_seq_len = seq_length\n",
    "tgt_seq_len = seq_length\n",
    "d_model = 64\n",
    "n_blocks = 6\n",
    "n_heads = 8\n",
    "dropout_rate = 0.1\n",
    "d_ff = 2048\n",
    "seed = 123\n",
    "\n",
    "# Build the Transformer model\n",
    "transformer = Transformer.build_transformer(\n",
    "    src_vocab_size,\n",
    "    tgt_vocab_size,\n",
    "    src_seq_len,\n",
    "    tgt_seq_len,\n",
    "    d_model,\n",
    "    n_blocks,\n",
    "    n_heads,\n",
    "    dropout_rate,\n",
    "    d_ff,\n",
    "    seed,\n",
    ")"
   ]
  },
  {
   "cell_type": "markdown",
   "id": "9ff92ba7",
   "metadata": {},
   "source": [
    "### Create masks"
   ]
  },
  {
   "cell_type": "code",
   "execution_count": 7,
   "id": "882e5ea1",
   "metadata": {},
   "outputs": [
    {
     "name": "stdout",
     "output_type": "stream",
     "text": [
      "Example Source mask (first 3 rows, as all rows are the same): \n",
      " [[1 1 1 1 1 1 1 1 1 1 1 0 0 0 0 0 0 0 0 1]\n",
      " [1 1 1 1 1 1 1 1 1 1 1 0 0 0 0 0 0 0 0 1]\n",
      " [1 1 1 1 1 1 1 1 1 1 1 0 0 0 0 0 0 0 0 1]]\n",
      "---\n",
      "Example Target mask: \n",
      " [[1 0 0 0 0 0 0 0 0 0 0 0 0 0 0 0 0 0 0 0]\n",
      " [1 1 0 0 0 0 0 0 0 0 0 0 0 0 0 0 0 0 0 0]\n",
      " [1 1 1 0 0 0 0 0 0 0 0 0 0 0 0 0 0 0 0 0]\n",
      " [1 1 1 1 0 0 0 0 0 0 0 0 0 0 0 0 0 0 0 0]\n",
      " [1 1 1 1 1 0 0 0 0 0 0 0 0 0 0 0 0 0 0 0]\n",
      " [1 1 1 1 1 1 0 0 0 0 0 0 0 0 0 0 0 0 0 0]\n",
      " [1 1 1 1 1 1 1 0 0 0 0 0 0 0 0 0 0 0 0 0]\n",
      " [1 1 1 1 1 1 1 1 0 0 0 0 0 0 0 0 0 0 0 0]\n",
      " [1 1 1 1 1 1 1 1 1 0 0 0 0 0 0 0 0 0 0 0]\n",
      " [1 1 1 1 1 1 1 1 1 1 0 0 0 0 0 0 0 0 0 0]\n",
      " [1 1 1 1 1 1 1 1 1 1 1 0 0 0 0 0 0 0 0 0]\n",
      " [1 1 1 1 1 1 1 1 1 1 1 0 0 0 0 0 0 0 0 0]\n",
      " [1 1 1 1 1 1 1 1 1 1 1 0 0 0 0 0 0 0 0 0]\n",
      " [1 1 1 1 1 1 1 1 1 1 1 0 0 0 0 0 0 0 0 0]\n",
      " [1 1 1 1 1 1 1 1 1 1 1 0 0 0 0 0 0 0 0 0]\n",
      " [1 1 1 1 1 1 1 1 1 1 1 0 0 0 0 0 0 0 0 0]\n",
      " [1 1 1 1 1 1 1 1 1 1 1 0 0 0 0 0 0 0 0 0]\n",
      " [1 1 1 1 1 1 1 1 1 1 1 0 0 0 0 0 0 0 0 0]\n",
      " [1 1 1 1 1 1 1 1 1 1 1 0 0 0 0 0 0 0 0 0]\n",
      " [1 1 1 1 1 1 1 1 1 1 1 0 0 0 0 0 0 0 0 1]]\n"
     ]
    }
   ],
   "source": [
    "src_masks = np.stack(\n",
    "    [\n",
    "        create_src_mask(src_batch[i], tokenizer.get_pad_token_id(), n_heads)\n",
    "        for i in range(seq_length)\n",
    "    ],\n",
    "    axis=0,\n",
    ")\n",
    "tgt_masks = np.stack(\n",
    "    [\n",
    "        create_tgt_mask(tgt_batch[i], tokenizer.get_pad_token_id(), n_heads)\n",
    "        for i in range(seq_length)\n",
    "    ],\n",
    "    axis=0,\n",
    ")\n",
    "\n",
    "print(f\"Example Source mask (first 3 rows, as all rows are the same): \\n {src_masks[-1][-1][:3]}\")\n",
    "print(\"---\")\n",
    "print(f\"Example Target mask: \\n {tgt_masks[-1][-1]}\")"
   ]
  },
  {
   "cell_type": "markdown",
   "id": "c47f7e4d",
   "metadata": {},
   "source": [
    "### Forward pass with created batches and masks"
   ]
  },
  {
   "cell_type": "code",
   "execution_count": 8,
   "id": "e3d4ebbe",
   "metadata": {},
   "outputs": [
    {
     "name": "stdout",
     "output_type": "stream",
     "text": [
      "Output shape: (20, 20, 103)\n"
     ]
    }
   ],
   "source": [
    "output = transformer(src_batch, tgt_batch, src_masks, tgt_masks)\n",
    "print(f\"Output shape: {output.shape}\")    "
   ]
  },
  {
   "cell_type": "markdown",
   "id": "ae8f17fe",
   "metadata": {},
   "source": [
    "### Let's have a look at the output\n",
    "(It will be random, as we did not train the transformer yet)"
   ]
  },
  {
   "cell_type": "code",
   "execution_count": 9,
   "id": "4b5f10d6",
   "metadata": {},
   "outputs": [
    {
     "name": "stdout",
     "output_type": "stream",
     "text": [
      "Batch 0:\n",
      "  Predicted token IDs: [22 75 75 34 34 75 46 22  4 44 75 34 44 75 75 22 46 46 22 34]\n",
      "  Detokenized:         j++vv+Hj1F+vF++jHHjv\n",
      "---\n",
      "Batch 1:\n",
      "  Predicted token IDs: [49 58 84 81 84 34 84 81 44 55 55 44 84 34 44 31 84 55 55 84]\n",
      "  Detokenized:         KT>;>v>;FQQF>vFs>QQ>\n",
      "---\n",
      "Batch 2:\n",
      "  Predicted token IDs: [49 77 27 49 43 49 49 49 49 49 75 49 34 49 34 49 49 49 75 49]\n",
      "  Detokenized:         K-oKEKKKKK+KvKvKKK+K\n",
      "---\n",
      "Batch 3:\n",
      "  Predicted token IDs: [102  46 102  46  46  46  46  55  44  45  46  46   5  22  49 102  46  46\n",
      "  46  46]\n",
      "  Detokenized:         \fH\fHHHHQFGHH2jK\fHHHH\n",
      "---\n",
      "Batch 4:\n",
      "  Predicted token IDs: [ 81  22  22  46   5  76  76  46 102  55   5  58  43  58  58  58  31  43\n",
      "  76  55]\n",
      "  Detokenized:         ;jjH2,,H\fQ2TETTTsE,Q\n",
      "---\n",
      "Batch 5:\n",
      "  Predicted token IDs: [22 76 22 70 58 22 49 58 22 22 22 58 58 58 58 58 22 58 22 58]\n",
      "  Detokenized:         j,j&TjKTjjjTTTTTjTjT\n",
      "---\n",
      "Batch 6:\n",
      "  Predicted token IDs: [74  4 23 55 23 23  4 76 46 55 46 55 23 23 55 55 23 22 23 76]\n",
      "  Detokenized:         *1kQkk1,HQHQkkQQkjk,\n",
      "---\n",
      "Batch 7:\n",
      "  Predicted token IDs: [22  7 22 76 55 22 76 22 76 44 76 76 84 55 55 22 55 76 76 84]\n",
      "  Detokenized:         j4j,Qj,j,F,,>QQjQ,,>\n",
      "---\n",
      "Batch 8:\n",
      "  Predicted token IDs: [ 34  96   4  44  81  22  96  77  70  96  22 102  45  29  55  81  96  45\n",
      "  49  58]\n",
      "  Detokenized:         v~1F;j~-&~j\fGqQ;~GKT\n",
      "---\n",
      "Batch 9:\n",
      "  Predicted token IDs: [34 45 34 22 58 22 58 22 22 22 44 44 63 76 49 84 22 81 58 43]\n",
      "  Detokenized:         vGvjTjTjjjFFY,K>j;TE\n",
      "---\n",
      "Batch 10:\n",
      "  Predicted token IDs: [75 22 50 46  5 84 96 55  5 46 49 55 46 27 55 55 46 55 55  7]\n",
      "  Detokenized:         +jLH2>~Q2HKQHoQQHQQ4\n",
      "---\n",
      "Batch 11:\n",
      "  Predicted token IDs: [84 76 55 55 84  7 84  7  7  7  7 55  7 55 55  7 84 76  7 45]\n",
      "  Detokenized:         >,QQ>4>4444Q4QQ4>,4G\n",
      "---\n",
      "Batch 12:\n",
      "  Predicted token IDs: [60 23 22 55  7 99  9 60 22 22  7  7 55 58 55 22 76  7 60 60]\n",
      "  Detokenized:         VkjQ4\n",
      "6Vjj44QTQj,4VV\n",
      "---\n",
      "Batch 13:\n",
      "  Predicted token IDs: [53 34 44 70 70 75 22 44  7 49 49 55 96 58 43 22 84 46 34 22]\n",
      "  Detokenized:         OvF&&+jF4KKQ~TEj>Hvj\n",
      "---\n",
      "Batch 14:\n",
      "  Predicted token IDs: [46 48 86 46 46 60  7 46  7 46 44 46 58 46 46 49 46 60 46 46]\n",
      "  Detokenized:         HJ@HHV4H4HFHTHHKHVHH\n",
      "---\n",
      "Batch 15:\n",
      "  Predicted token IDs: [22 70  7 44 70 22 45 44 22 22  7 44 55 22  7  7 76 22 84 27]\n",
      "  Detokenized:         j&4F&jGFjj4FQj44,j>o\n",
      "---\n",
      "Batch 16:\n",
      "  Predicted token IDs: [22 58 22 55 58 22 58 22 22 22 87 44 84 44 22 49 44 22 22 22]\n",
      "  Detokenized:         jTjQTjTjjj[F>FjKFjjj\n",
      "---\n",
      "Batch 17:\n",
      "  Predicted token IDs: [ 7 22 84 75 44  7  7 22 22 22  7 22  7 22  5 22 22 22 22 22]\n",
      "  Detokenized:         4j>+F44jjj4j4j2jjjjj\n",
      "---\n",
      "Batch 18:\n",
      "  Predicted token IDs: [60 22 45 60 45 22 45 22  7  7  7 44 22 55 44  7 44 31 74 60]\n",
      "  Detokenized:         VjGVGjGj444FjQF4Fs*V\n",
      "---\n",
      "Batch 19:\n",
      "  Predicted token IDs: [75 58 55 22 84 49 45 58 84  7  7 49 44 55 46 44 55 46 44 45]\n",
      "  Detokenized:         +TQj>KGT>44KFQHFQHFG\n",
      "---\n"
     ]
    }
   ],
   "source": [
    "pred_token_ids = np.argmax(output, axis=-1)\n",
    "\n",
    "# Iterate over batch \n",
    "for i in range(pred_token_ids.shape[0]):\n",
    "    pred_ids = pred_token_ids[i]\n",
    "    pred_text = tokenizer.detokenize(pred_ids.tolist())\n",
    "    print(f\"Batch {i}:\")\n",
    "    print(\"  Predicted token IDs:\", pred_ids)\n",
    "    print(\"  Detokenized:        \", pred_text)\n",
    "    print(\"---\")"
   ]
  }
 ],
 "metadata": {
  "kernelspec": {
   "display_name": ".venv",
   "language": "python",
   "name": "python3"
  },
  "language_info": {
   "codemirror_mode": {
    "name": "ipython",
    "version": 3
   },
   "file_extension": ".py",
   "mimetype": "text/x-python",
   "name": "python",
   "nbconvert_exporter": "python",
   "pygments_lexer": "ipython3",
   "version": "3.12.9"
  }
 },
 "nbformat": 4,
 "nbformat_minor": 5
}
